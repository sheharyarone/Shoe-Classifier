{
 "cells": [
  {
   "cell_type": "code",
   "execution_count": 1,
   "id": "8f9f1df0",
   "metadata": {},
   "outputs": [],
   "source": [
    "import torch\n",
    "import torch.nn as nn\n",
    "import torch.optim as optim\n",
    "from torch.utils.data import DataLoader\n",
    "from torchvision import transforms, models, datasets\n",
    "from sklearn.model_selection import train_test_split"
   ]
  },
  {
   "cell_type": "code",
   "execution_count": 2,
   "id": "53b11782",
   "metadata": {},
   "outputs": [],
   "source": [
    "# Set the device (cuda if available, otherwise cpu)\n",
    "DEVICE = torch.device(\"cuda\" if torch.cuda.is_available() else \"cpu\")"
   ]
  },
  {
   "cell_type": "code",
   "execution_count": 3,
   "id": "b6e6bef9",
   "metadata": {},
   "outputs": [],
   "source": [
    "# Constants\n",
    "NUM_CLASSES = 8  # Update this to the number of classes in your dataset\n",
    "BATCH_SIZE = 32\n",
    "IMAGE_SIZE =224"
   ]
  },
  {
   "cell_type": "code",
   "execution_count": 4,
   "id": "0d5f9925",
   "metadata": {},
   "outputs": [],
   "source": [
    "PATH = \"organized_data_final_3\""
   ]
  },
  {
   "cell_type": "code",
   "execution_count": 5,
   "id": "54c047dc",
   "metadata": {},
   "outputs": [],
   "source": [
    "# Data Transforms\n",
    "transform = transforms.Compose([\n",
    "    transforms.Resize((IMAGE_SIZE, IMAGE_SIZE)),\n",
    "    transforms.ToTensor(),\n",
    "])\n",
    "\n",
    "# Load the dataset\n",
    "full_dataset = datasets.ImageFolder(root=PATH, transform=transform)"
   ]
  },
  {
   "cell_type": "code",
   "execution_count": 6,
   "id": "8b2ac180",
   "metadata": {},
   "outputs": [],
   "source": [
    "# Split the dataset\n",
    "train_size = int(0.8 * len(full_dataset))\n",
    "val_size = int(0.1 * len(full_dataset))\n",
    "test_size = len(full_dataset) -train_size - val_size\n",
    "\n",
    "train_dataset, val_dataset, test_dataset = torch.utils.data.random_split(\n",
    "    full_dataset, [train_size, val_size,test_size]\n",
    ")"
   ]
  },
  {
   "cell_type": "code",
   "execution_count": 7,
   "id": "2d266790",
   "metadata": {},
   "outputs": [],
   "source": [
    "# Create data loaders\n",
    "train_loader = DataLoader(train_dataset, batch_size=BATCH_SIZE, shuffle=True, num_workers=4)\n",
    "val_loader = DataLoader(val_dataset, batch_size=BATCH_SIZE, shuffle=False, num_workers=4)\n",
    "test_loader = DataLoader(test_dataset, batch_size=BATCH_SIZE, shuffle=False,num_workers=4)"
   ]
  },
  {
   "cell_type": "code",
   "execution_count": 8,
   "id": "a882fdea",
   "metadata": {},
   "outputs": [
    {
     "name": "stderr",
     "output_type": "stream",
     "text": [
      "C:\\Users\\DELL\\anaconda3\\envs\\tensorflow\\lib\\site-packages\\torchvision\\models\\_utils.py:208: UserWarning: The parameter 'pretrained' is deprecated since 0.13 and may be removed in the future, please use 'weights' instead.\n",
      "  warnings.warn(\n",
      "C:\\Users\\DELL\\anaconda3\\envs\\tensorflow\\lib\\site-packages\\torchvision\\models\\_utils.py:223: UserWarning: Arguments other than a weight enum or `None` for 'weights' are deprecated since 0.13 and may be removed in the future. The current behavior is equivalent to passing `weights=ResNet50_Weights.IMAGENET1K_V1`. You can also use `weights=ResNet50_Weights.DEFAULT` to get the most up-to-date weights.\n",
      "  warnings.warn(msg)\n"
     ]
    }
   ],
   "source": [
    "# Load a pre-trained ResNet model\n",
    "resnet = models.resnet50(pretrained=True)"
   ]
  },
  {
   "cell_type": "code",
   "execution_count": 9,
   "id": "b3c5a635",
   "metadata": {},
   "outputs": [],
   "source": [
    "# Modify the last fully connected layer for the new number of classes\n",
    "resnet.fc = nn.Linear(resnet.fc.in_features,NUM_CLASSES)"
   ]
  },
  {
   "cell_type": "code",
   "execution_count": 10,
   "id": "60f0a576",
   "metadata": {},
   "outputs": [],
   "source": [
    "layersToTrain = 6\n",
    "layersForTraining = list(resnet.children())[-layersToTrain:]\n",
    "\n",
    "# Set requires_grad to True for the parameters of the identified layers\n",
    "for layer in layersForTraining:\n",
    "    for param in layer.parameters():\n",
    "        param.requires_grad = True\n",
    "\n",
    "\n",
    "# Move the model to the device\n",
    "resnet = resnet.to(DEVICE)\n",
    "\n",
    "# Define loss function and optimizer\n",
    "criterion = nn.CrossEntropyLoss()\n",
    "optimizer = optim.SGD(resnet.parameters(), lr=0.001,momentum=0.9)"
   ]
  },
  {
   "cell_type": "code",
   "execution_count": 11,
   "id": "59fc0b5e",
   "metadata": {},
   "outputs": [],
   "source": [
    "from tqdm import tqdm"
   ]
  },
  {
   "cell_type": "code",
   "execution_count": 12,
   "id": "1f94c752",
   "metadata": {},
   "outputs": [
    {
     "name": "stderr",
     "output_type": "stream",
     "text": [
      "Epoch 1/10: 100%|████████████████████████████████████████████████████████████████████| 473/473 [03:12<00:00,  2.46it/s]\n"
     ]
    },
    {
     "name": "stdout",
     "output_type": "stream",
     "text": [
      "Epoch 1/10, Loss: 0.1436, Accuracy: 95.66%\n"
     ]
    },
    {
     "name": "stderr",
     "output_type": "stream",
     "text": [
      "Epoch 2/10: 100%|████████████████████████████████████████████████████████████████████| 473/473 [03:11<00:00,  2.47it/s]\n"
     ]
    },
    {
     "name": "stdout",
     "output_type": "stream",
     "text": [
      "Epoch 2/10, Loss: 0.1021, Accuracy: 97.14%\n"
     ]
    },
    {
     "name": "stderr",
     "output_type": "stream",
     "text": [
      "Epoch 3/10: 100%|████████████████████████████████████████████████████████████████████| 473/473 [03:15<00:00,  2.42it/s]\n"
     ]
    },
    {
     "name": "stdout",
     "output_type": "stream",
     "text": [
      "Epoch 3/10, Loss: 0.0852, Accuracy: 97.41%\n"
     ]
    },
    {
     "name": "stderr",
     "output_type": "stream",
     "text": [
      "Epoch 4/10: 100%|████████████████████████████████████████████████████████████████████| 473/473 [03:15<00:00,  2.42it/s]\n"
     ]
    },
    {
     "name": "stdout",
     "output_type": "stream",
     "text": [
      "Epoch 4/10, Loss: 0.0623, Accuracy: 98.31%\n"
     ]
    },
    {
     "name": "stderr",
     "output_type": "stream",
     "text": [
      "Epoch 5/10: 100%|████████████████████████████████████████████████████████████████████| 473/473 [03:16<00:00,  2.40it/s]\n"
     ]
    },
    {
     "name": "stdout",
     "output_type": "stream",
     "text": [
      "Epoch 5/10, Loss: 0.0612, Accuracy: 98.15%\n"
     ]
    },
    {
     "name": "stderr",
     "output_type": "stream",
     "text": [
      "Epoch 6/10: 100%|████████████████████████████████████████████████████████████████████| 473/473 [03:19<00:00,  2.37it/s]\n"
     ]
    },
    {
     "name": "stdout",
     "output_type": "stream",
     "text": [
      "Epoch 6/10, Loss: 0.0648, Accuracy: 98.15%\n"
     ]
    },
    {
     "name": "stderr",
     "output_type": "stream",
     "text": [
      "Epoch 7/10: 100%|████████████████████████████████████████████████████████████████████| 473/473 [03:13<00:00,  2.45it/s]\n"
     ]
    },
    {
     "name": "stdout",
     "output_type": "stream",
     "text": [
      "Epoch 7/10, Loss: 0.0599, Accuracy: 98.15%\n"
     ]
    },
    {
     "name": "stderr",
     "output_type": "stream",
     "text": [
      "Epoch 8/10: 100%|████████████████████████████████████████████████████████████████████| 473/473 [03:11<00:00,  2.47it/s]\n"
     ]
    },
    {
     "name": "stdout",
     "output_type": "stream",
     "text": [
      "Epoch 8/10, Loss: 0.0526, Accuracy: 98.41%\n"
     ]
    },
    {
     "name": "stderr",
     "output_type": "stream",
     "text": [
      "Epoch 9/10: 100%|████████████████████████████████████████████████████████████████████| 473/473 [03:11<00:00,  2.47it/s]\n"
     ]
    },
    {
     "name": "stdout",
     "output_type": "stream",
     "text": [
      "Epoch 9/10, Loss: 0.0513, Accuracy: 98.20%\n"
     ]
    },
    {
     "name": "stderr",
     "output_type": "stream",
     "text": [
      "Epoch 10/10: 100%|███████████████████████████████████████████████████████████████████| 473/473 [03:11<00:00,  2.47it/s]\n"
     ]
    },
    {
     "name": "stdout",
     "output_type": "stream",
     "text": [
      "Epoch 10/10, Loss: 0.0571, Accuracy: 98.41%\n"
     ]
    }
   ],
   "source": [
    "NUM_EPOCHS = 10\n",
    "\n",
    "for epoch in range(NUM_EPOCHS):\n",
    "    resnet.train()\n",
    "\n",
    "    # Use tqdm for a progress bar\n",
    "    tqdm_train_loader = tqdm(train_loader, desc=f'Epoch {epoch + 1}/{NUM_EPOCHS}')\n",
    "\n",
    "    for inputs, labels in tqdm_train_loader:\n",
    "        inputs, labels = inputs.to(DEVICE), labels.to(DEVICE)\n",
    "        optimizer.zero_grad()\n",
    "        outputs = resnet(inputs)\n",
    "        loss = criterion(outputs, labels)\n",
    "        loss.backward()\n",
    "        optimizer.step()\n",
    "\n",
    "    # Validation loop\n",
    "    resnet.eval()\n",
    "    val_loss = 0.0\n",
    "    correct = 0\n",
    "    total = 0\n",
    "\n",
    "    with torch.no_grad():\n",
    "        for inputs, labels in val_loader:\n",
    "            inputs, labels = inputs.to(DEVICE), labels.to(DEVICE)\n",
    "\n",
    "            outputs = resnet(inputs)\n",
    "            loss = criterion(outputs, labels)\n",
    "            val_loss += loss.item()\n",
    "\n",
    "            _, predicted = torch.max(outputs, 1)\n",
    "            total += labels.size(0)\n",
    "            correct += (predicted == labels).sum().item()\n",
    "\n",
    "    avg_val_loss = val_loss / len(val_loader)\n",
    "    val_accuracy = correct / total\n",
    "\n",
    "    print(f\"Epoch {epoch + 1}/{NUM_EPOCHS}, Loss: {avg_val_loss:.4f}, Accuracy: {val_accuracy * 100:.2f}%\")\n"
   ]
  },
  {
   "cell_type": "code",
   "execution_count": 13,
   "id": "53b9cc4a",
   "metadata": {},
   "outputs": [],
   "source": [
    "torch.save(resnet.state_dict(), 'AS.pth')"
   ]
  },
  {
   "cell_type": "code",
   "execution_count": 14,
   "id": "cf1ee0e2",
   "metadata": {},
   "outputs": [
    {
     "name": "stdout",
     "output_type": "stream",
     "text": [
      "Test Accuracy: 98.10%\n"
     ]
    }
   ],
   "source": [
    "# Test the model\n",
    "resnet.eval()\n",
    "test_correct = 0\n",
    "test_total = 0\n",
    "\n",
    "with torch.no_grad():\n",
    "    for inputs, labels in test_loader:\n",
    "        inputs, labels = inputs.to(DEVICE), labels.to(DEVICE)\n",
    "\n",
    "        outputs = resnet(inputs)\n",
    "        _, predicted = torch.max(outputs, 1)\n",
    "        test_total += labels.size(0)\n",
    "        test_correct += (predicted == labels).sum().item()\n",
    "\n",
    "test_accuracy = test_correct / test_total\n",
    "print(f\"Test Accuracy: {test_accuracy * 100:.2f}%\")\n"
   ]
  },
  {
   "cell_type": "code",
   "execution_count": 83,
   "id": "fc2b0971",
   "metadata": {},
   "outputs": [
    {
     "name": "stdout",
     "output_type": "stream",
     "text": [
      "Predicted Class: Athletic shoes\n",
      "Class Probabilities: [0.8158131837844849, 0.04029471427202225, 0.00024055864196270704, 0.0037294619251042604, 0.10230713337659836, 0.028387336060404778, 0.0020814158488065004, 0.007146227639168501]\n",
      "Logits: [4.101933479309082, 1.0939682722091675, -4.02704381942749, -1.2859880924224854, 2.0257275104522705, 0.7436912059783936, -1.869203805923462, -0.6356671452522278]\n"
     ]
    }
   ],
   "source": [
    "import torch\n",
    "from torchvision import transforms\n",
    "from PIL import Image\n",
    "\n",
    "def predict_image(image_path, model, class_labels, device='cuda'):\n",
    "    # Load and preprocess the image\n",
    "    transform = transforms.Compose([\n",
    "        transforms.Resize((224, 224)),\n",
    "        transforms.ToTensor(),\n",
    "    ])\n",
    "\n",
    "    image = Image.open(image_path).convert('RGB')  # Ensure the image is in RGB format\n",
    "    input_tensor = transform(image).unsqueeze(0).to(device)  # Add batch dimension and move to the specified device\n",
    "\n",
    "    # Move model to the same device as the input tensor\n",
    "    model = model.to(device)\n",
    "\n",
    "    # Make prediction\n",
    "    with torch.no_grad():\n",
    "        model.eval()\n",
    "        output = model(input_tensor)\n",
    "\n",
    "    # Get class probabilities and logits\n",
    "    probabilities = torch.nn.Softmax(dim=1)(output)[0].tolist()\n",
    "    logits = output[0].tolist()\n",
    "\n",
    "    # Get the predicted class index\n",
    "    predicted_index = torch.argmax(output).item()\n",
    "    predicted_class = class_labels[predicted_index]\n",
    "\n",
    "    return {\n",
    "        'predicted_class': predicted_class,\n",
    "        'probabilities': probabilities,\n",
    "        'logits': logits\n",
    "    }\n",
    "\n",
    "# Example usage\n",
    "image_path = \"shoe.jpg\"\n",
    "prediction_result = predict_image(image_path, resnet, class_labels=['Athletic shoes', 'Boat', 'Flats', 'Heels', 'Knee High', 'Loafers', 'Oxford', \"Sneakers\"])\n",
    "\n",
    "print(\"Predicted Class:\", prediction_result['predicted_class'])\n",
    "print(\"Class Probabilities:\", prediction_result['probabilities'])\n",
    "print(\"Logits:\", prediction_result['logits'])\n"
   ]
  },
  {
   "cell_type": "code",
   "execution_count": null,
   "id": "6ae04ce8",
   "metadata": {},
   "outputs": [],
   "source": []
  }
 ],
 "metadata": {
  "kernelspec": {
   "display_name": "tensorflow",
   "language": "python",
   "name": "tensorflow"
  },
  "language_info": {
   "codemirror_mode": {
    "name": "ipython",
    "version": 3
   },
   "file_extension": ".py",
   "mimetype": "text/x-python",
   "name": "python",
   "nbconvert_exporter": "python",
   "pygments_lexer": "ipython3",
   "version": "3.9.18"
  }
 },
 "nbformat": 4,
 "nbformat_minor": 5
}
